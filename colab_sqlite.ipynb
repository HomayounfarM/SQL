{
  "nbformat": 4,
  "nbformat_minor": 0,
  "metadata": {
    "colab": {
      "private_outputs": true,
      "provenance": [],
      "collapsed_sections": [],
      "authorship_tag": "ABX9TyPKdMP1OjIlz6v5CLphoHGM",
      "include_colab_link": true
    },
    "kernelspec": {
      "name": "python3",
      "display_name": "Python 3"
    },
    "language_info": {
      "name": "python"
    }
  },
  "cells": [
    {
      "cell_type": "markdown",
      "metadata": {
        "id": "view-in-github",
        "colab_type": "text"
      },
      "source": [
        "<a href=\"https://colab.research.google.com/github/HomayounfarM/SQL/blob/main/colab_sqlite.ipynb\" target=\"_parent\"><img src=\"https://colab.research.google.com/assets/colab-badge.svg\" alt=\"Open In Colab\"/></a>"
      ]
    },
    {
      "cell_type": "markdown",
      "source": [
        "# Mount google drive"
      ],
      "metadata": {
        "id": "2kwk2DMPtPZ_"
      }
    },
    {
      "cell_type": "code",
      "source": [
        "from pydrive.auth import GoogleAuth\n",
        "from pydrive.drive import GoogleDrive\n",
        "\n",
        "gauth = GoogleAuth()\n",
        "gauth.LocalWebserverAuth() # Creates local webserver and auto handles authentication.\n",
        "\n",
        "drive = GoogleDrive(gauth)\n",
        "\n",
        "\n",
        "\n",
        "import sqlite3\n",
        "\n",
        "drive_path = \"/My Drive/database/\"\n",
        "db_name = \"test.db\"\n",
        "\n",
        "conn = sqlite3.connect(drive_path + db_name)\n",
        "\n",
        "cur = conn.cursor()"
      ],
      "metadata": {
        "id": "FbFhYYazCzDS"
      },
      "execution_count": null,
      "outputs": []
    },
    {
      "cell_type": "code",
      "execution_count": null,
      "metadata": {
        "id": "r2MJj5-zop7V"
      },
      "outputs": [],
      "source": [
        "# you need to install the \"mysql-connector-python\" using \"pip install mysql-connector-python\" in a terminal\n",
        "\n",
        "from google.colab import drive\n",
        "drive.mount(\"/content/drive\", force_remount=True)\n",
        "import sqlite3\n",
        "from sqlite3 import Error"
      ]
    },
    {
      "cell_type": "markdown",
      "source": [
        "# The database is created it when you make any connection with your engine.\n",
        "Delete a database: There is no command in sqlite to drop a database, as the database is saved in a file. To drop it you would just delete the file."
      ],
      "metadata": {
        "id": "o0yoCnOWpntI"
      }
    },
    {
      "cell_type": "code",
      "source": [
        "from sqlalchemy import create_engine\n",
        "my_conn = create_engine(\"sqlite:////content/drive/MyDrive/Colab Notebooks/DB/betoche.db\")\n",
        "\n",
        "with my_conn.connect():\n",
        "    pass\n"
      ],
      "metadata": {
        "id": "AifvmxfEkpIe"
      },
      "execution_count": null,
      "outputs": []
    },
    {
      "cell_type": "markdown",
      "source": [
        "# Create a table, project_farmer_crop_info, with 6 columns.\n"
      ],
      "metadata": {
        "id": "XZAoOMs2wziv"
      }
    },
    {
      "cell_type": "code",
      "source": [
        "my_conn.execute('''create table if not exists project_farmer_crop_info (\n",
        "id int auto_increment primary key, \n",
        "project varchar(20) not null, \n",
        "grower varchar(20) not null, \n",
        "location varchar(20) not null, \n",
        "season text not null, \n",
        "crop text not null);''')\n",
        "r_set = my_conn.execute('''select name from sqlite_master WHERE type='table';''')\n",
        "my_conn.execute('''create table if not exists soil (\n",
        "id int auto_increment primary key, \n",
        "project_farmer_crop_info_id int,\n",
        "treatment text,\n",
        "N_row int,\n",
        "position text,\n",
        "Param_value double,\n",
        "collected_date date, foreign key(project_farmer_crop_info_id) references project_farmer_crop_info(id));''')\n",
        "r_set = my_conn.execute('''select name from sqlite_master WHERE type='table';''')\n",
        "\n",
        "for row in r_set:\n",
        "  print(row)"
      ],
      "metadata": {
        "id": "X6Nbp3ylpq_4"
      },
      "execution_count": null,
      "outputs": []
    },
    {
      "cell_type": "code",
      "source": [
        "my_conn.execute('''drop table project_farmer_crop_info;''')"
      ],
      "metadata": {
        "id": "NSu6FV5Ypq8a"
      },
      "execution_count": null,
      "outputs": []
    },
    {
      "cell_type": "code",
      "source": [
        "r_set = my_conn.execute('''select name from sqlite_master WHERE type='table';''')\n",
        "\n",
        "for row in r_set:\n",
        "  print(row)"
      ],
      "metadata": {
        "id": "bcjzuu00396y"
      },
      "execution_count": null,
      "outputs": []
    }
  ]
}