{
  "nbformat": 4,
  "nbformat_minor": 0,
  "metadata": {
    "colab": {
      "private_outputs": true,
      "provenance": [],
      "collapsed_sections": [],
      "authorship_tag": "ABX9TyOD2C4lt8iqXoQhDZZwRHU5",
      "include_colab_link": true
    },
    "kernelspec": {
      "name": "python3",
      "display_name": "Python 3"
    },
    "language_info": {
      "name": "python"
    }
  },
  "cells": [
    {
      "cell_type": "markdown",
      "metadata": {
        "id": "view-in-github",
        "colab_type": "text"
      },
      "source": [
        "<a href=\"https://colab.research.google.com/github/HomayounfarM/SQL/blob/main/colab_sqlite.ipynb\" target=\"_parent\"><img src=\"https://colab.research.google.com/assets/colab-badge.svg\" alt=\"Open In Colab\"/></a>"
      ]
    },
    {
      "cell_type": "code",
      "execution_count": null,
      "metadata": {
        "id": "r2MJj5-zop7V"
      },
      "outputs": [],
      "source": [
        "# you need to install the \"mysql-connector-python\" using \"pip install mysql-connector-python\" in a terminal\n",
        "\n",
        "from google.colab import drive\n",
        "drive.mount('/content/drive')\n",
        "import sqlite3\n",
        "from sqlite3 import Error"
      ]
    },
    {
      "cell_type": "code",
      "source": [
        "from sqlalchemy import create_engine\n",
        "my_conn = create_engine(\"sqlite:////content/drive/MyDrive/Colab Notebooks/DB/scratch.db\")\n",
        "r_set = my_conn.execute('''select name from sqlite_master''')\n",
        "\n",
        "for row in r_set:\n",
        "  print(row)"
      ],
      "metadata": {
        "id": "8HfIReHWmgoi"
      },
      "execution_count": null,
      "outputs": []
    }
  ]
}